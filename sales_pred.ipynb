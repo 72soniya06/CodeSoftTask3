{
  "nbformat": 4,
  "nbformat_minor": 0,
  "metadata": {
    "colab": {
      "provenance": [],
      "authorship_tag": "ABX9TyNygIg5fju9mGU1Whct70tM",
      "include_colab_link": true
    },
    "kernelspec": {
      "name": "python3",
      "display_name": "Python 3"
    },
    "language_info": {
      "name": "python"
    }
  },
  "cells": [
    {
      "cell_type": "markdown",
      "metadata": {
        "id": "view-in-github",
        "colab_type": "text"
      },
      "source": [
        "<a href=\"https://colab.research.google.com/github/72soniya06/CodeSoftTask3/blob/main/sales_pred.ipynb\" target=\"_parent\"><img src=\"https://colab.research.google.com/assets/colab-badge.svg\" alt=\"Open In Colab\"/></a>"
      ]
    },
    {
      "cell_type": "code",
      "source": [
        "import tkinter as tk\n",
        "from tkinter import messagebox\n",
        "import numpy as np\n",
        "import joblib\n",
        "from sklearn.linear_model import LinearRegression\n",
        "import pandas as pd\n",
        "\n",
        "# Load dataset and train the model\n",
        "df = pd.read_csv(\"advertising.csv\")\n",
        "X = df[['TV', 'Radio', 'Newspaper']]\n",
        "y = df['Sales']\n",
        "model = LinearRegression()\n",
        "model.fit(X, y)\n",
        "\n",
        "# GUI Functionality\n",
        "def predict_sales():\n",
        "    try:\n",
        "        tv = float(entry_tv.get())\n",
        "        radio = float(entry_radio.get())\n",
        "        newspaper = float(entry_newspaper.get())\n",
        "\n",
        "        input_data = np.array([[tv, radio, newspaper]])\n",
        "        prediction = model.predict(input_data)[0]\n",
        "        result_label.config(text=f\"Predicted Sales: {prediction:.2f}\")\n",
        "    except ValueError:\n",
        "        messagebox.showerror(\"Invalid input\", \"Please enter valid numbers.\")\n",
        "\n"
      ],
      "metadata": {
        "id": "QbLWv8ZARND5"
      },
      "execution_count": 1,
      "outputs": []
    },
    {
      "cell_type": "code",
      "source": [
        "import gradio as gr\n",
        "import pandas as pd\n",
        "from sklearn.linear_model import LinearRegression\n",
        "\n",
        "# Load data\n",
        "df = pd.read_csv(\"advertising.csv\")\n",
        "X = df[[\"TV\", \"Radio\", \"Newspaper\"]]\n",
        "y = df[\"Sales\"]\n",
        "\n",
        "# Train model\n",
        "model = LinearRegression()\n",
        "model.fit(X, y)\n",
        "\n",
        "# Prediction function\n",
        "def predict_sales(tv, radio, newspaper):\n",
        "    data = [[tv, radio, newspaper]]\n",
        "    prediction = model.predict(data)[0]\n",
        "    return round(prediction, 2)\n",
        "\n",
        "# Gradio Interface\n",
        "interface = gr.Interface(\n",
        "    fn=predict_sales,\n",
        "    inputs=[\n",
        "        gr.Number(label=\"TV Advertising ($)\", value=100),\n",
        "        gr.Number(label=\"Radio Advertising ($)\", value=20),\n",
        "        gr.Number(label=\"Newspaper Advertising ($)\", value=30),\n",
        "    ],\n",
        "    outputs=gr.Number(label=\"Predicted Sales\"),\n",
        "    title=\"Sales Prediction App\",\n",
        "    description=\"Enter advertising budget for TV, Radio, and Newspaper to predict product sales.\",\n",
        "    theme=\"default\"\n",
        ")\n",
        "\n",
        "# Launch the app\n",
        "interface.launch()\n",
        "1"
      ],
      "metadata": {
        "colab": {
          "base_uri": "https://localhost:8080/",
          "height": 663
        },
        "id": "t3ScUFn6Sthw",
        "outputId": "e9a1deb2-d329-4041-f9d3-0b1d73cedb32"
      },
      "execution_count": 2,
      "outputs": [
        {
          "output_type": "stream",
          "name": "stdout",
          "text": [
            "It looks like you are running Gradio on a hosted Jupyter notebook, which requires `share=True`. Automatically setting `share=True` (you can turn this off by setting `share=False` in `launch()` explicitly).\n",
            "\n",
            "Colab notebook detected. To show errors in colab notebook, set debug=True in launch()\n",
            "* Running on public URL: https://1cc5e71b8f253972cb.gradio.live\n",
            "\n",
            "This share link expires in 1 week. For free permanent hosting and GPU upgrades, run `gradio deploy` from the terminal in the working directory to deploy to Hugging Face Spaces (https://huggingface.co/spaces)\n"
          ]
        },
        {
          "output_type": "display_data",
          "data": {
            "text/plain": [
              "<IPython.core.display.HTML object>"
            ],
            "text/html": [
              "<div><iframe src=\"https://1cc5e71b8f253972cb.gradio.live\" width=\"100%\" height=\"500\" allow=\"autoplay; camera; microphone; clipboard-read; clipboard-write;\" frameborder=\"0\" allowfullscreen></iframe></div>"
            ]
          },
          "metadata": {}
        },
        {
          "output_type": "execute_result",
          "data": {
            "text/plain": [
              "1"
            ]
          },
          "metadata": {},
          "execution_count": 2
        }
      ]
    }
  ]
}